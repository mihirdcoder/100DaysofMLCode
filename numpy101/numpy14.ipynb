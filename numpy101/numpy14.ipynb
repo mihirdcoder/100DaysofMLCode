{
 "cells": [
  {
   "cell_type": "code",
   "execution_count": 1,
   "metadata": {},
   "outputs": [],
   "source": [
    "import numpy as np"
   ]
  },
  {
   "cell_type": "markdown",
   "metadata": {},
   "source": [
    "How to convert numpy's datetime64 object to datetime's datetime object?\n",
    "Difficulty Level: L2\n",
    "\n",
    "Q. Convert numpy's datetime64 object to datetime's datetime object"
   ]
  },
  {
   "cell_type": "code",
   "execution_count": 3,
   "metadata": {},
   "outputs": [],
   "source": [
    "dt64 = np.datetime64('2018-02-25 22:10:10')"
   ]
  },
  {
   "cell_type": "code",
   "execution_count": 4,
   "metadata": {},
   "outputs": [
    {
     "data": {
      "text/plain": [
       "datetime.datetime(2018, 2, 25, 22, 10, 10)"
      ]
     },
     "execution_count": 4,
     "metadata": {},
     "output_type": "execute_result"
    }
   ],
   "source": [
    "from datetime import datetime\n",
    "dt64.tolist()"
   ]
  },
  {
   "cell_type": "markdown",
   "metadata": {},
   "source": [
    "How to compute the moving average of a numpy array?\n",
    "Difficulty Level: L3\n",
    "\n",
    "Q. Compute the moving average of window size 3, for the given 1D array.\n",
    "\n"
   ]
  },
  {
   "cell_type": "code",
   "execution_count": 11,
   "metadata": {},
   "outputs": [],
   "source": [
    "np.random.seed(100)"
   ]
  },
  {
   "cell_type": "code",
   "execution_count": 10,
   "metadata": {},
   "outputs": [
    {
     "name": "stdout",
     "output_type": "stream",
     "text": [
      "array:  [7 7 0 2 9 9 3 2 5 8]\n"
     ]
    },
    {
     "data": {
      "text/plain": [
       "array([4.67, 3.  , 3.67, 6.67, 7.  , 4.67, 3.33, 5.  ])"
      ]
     },
     "execution_count": 10,
     "metadata": {},
     "output_type": "execute_result"
    }
   ],
   "source": [
    "def moving_average(a,n=3):\n",
    "    ret = np.cumsum(a, dtype=float)\n",
    "    ret[n:] = ret[n:] - ret[:-n]\n",
    "    return ret[n - 1:] / n\n",
    "Z = np.random.randint(10, size=10)\n",
    "print('array: ',Z)\n",
    "moving_average(Z, n=3).round(2)"
   ]
  },
  {
   "cell_type": "code",
   "execution_count": 15,
   "metadata": {},
   "outputs": [
    {
     "name": "stdout",
     "output_type": "stream",
     "text": [
      "[ 7. 14. 14. 16. 25. 34. 37. 39. 44. 52.]\n",
      "[7 7 0 2 9 9 3 2 5 8]\n"
     ]
    }
   ],
   "source": [
    "ret = np.cumsum(Z, dtype=float)\n",
    "print(ret)\n",
    "print(Z)"
   ]
  },
  {
   "cell_type": "markdown",
   "metadata": {},
   "source": [
    "How to create a numpy array sequence given only the starting point, length and the step?\n",
    "Difficulty Level: L2\n",
    "\n",
    "Q. Create a numpy array of length 10, starting from 5 and has a step of 3 between consecutive numbers\n",
    "\n"
   ]
  },
  {
   "cell_type": "code",
   "execution_count": 17,
   "metadata": {},
   "outputs": [
    {
     "data": {
      "text/plain": [
       "array([ 5,  8, 11, 14, 17, 20, 23, 26, 29, 32])"
      ]
     },
     "execution_count": 17,
     "metadata": {},
     "output_type": "execute_result"
    }
   ],
   "source": [
    "length = 10\n",
    "start = 5\n",
    "step = 3\n",
    "\n",
    "def seq(start, length, step):\n",
    "    end = start + (step*length)\n",
    "    return np.arange(start, end, step)\n",
    "seq(start, length, step)"
   ]
  },
  {
   "cell_type": "markdown",
   "metadata": {},
   "source": [
    "How to fill in missing dates in an irregular series of numpy dates?\n",
    "Difficulty Level: L3\n",
    "\n",
    "Q. Given an array of a non-continuous sequence of dates. Make it a continuous sequence of dates, by filling in the missing dates."
   ]
  },
  {
   "cell_type": "code",
   "execution_count": 28,
   "metadata": {},
   "outputs": [
    {
     "name": "stdout",
     "output_type": "stream",
     "text": [
      "['2018-02-01' '2018-02-03' '2018-02-05' '2018-02-07' '2018-02-09'\n",
      " '2018-02-11' '2018-02-13' '2018-02-15' '2018-02-17' '2018-02-19'\n",
      " '2018-02-21' '2018-02-23']\n"
     ]
    }
   ],
   "source": [
    "dates = np.arange(np.datetime64('2018-02-01'), np.datetime64('2018-02-25'),2)\n",
    "print(dates)"
   ]
  },
  {
   "cell_type": "code",
   "execution_count": 34,
   "metadata": {},
   "outputs": [
    {
     "name": "stdout",
     "output_type": "stream",
     "text": [
      "['2018-02-01' '2018-02-02' '2018-02-03' '2018-02-04' '2018-02-05'\n",
      " '2018-02-06' '2018-02-07' '2018-02-08' '2018-02-09' '2018-02-10'\n",
      " '2018-02-11' '2018-02-12' '2018-02-13' '2018-02-14' '2018-02-15'\n",
      " '2018-02-16' '2018-02-17' '2018-02-18' '2018-02-19' '2018-02-20'\n",
      " '2018-02-21' '2018-02-22']\n"
     ]
    }
   ],
   "source": [
    "filled_in = np.array([np.arange(date, (date+d)) for date, d in zip(dates, np.diff(dates))]).reshape(-1)\n",
    "print(filled_in)"
   ]
  },
  {
   "cell_type": "markdown",
   "metadata": {},
   "source": [
    "How to create strides from a given 1D array?\n",
    "Difficulty Level: L4\n",
    "\n",
    "Q. From the given 1d array arr, generate a 2d matrix using strides, with a window length of 4 and strides of 2, like [[0,1,2,3], [2,3,4,5], [4,5,6,7]..]"
   ]
  },
  {
   "cell_type": "code",
   "execution_count": 37,
   "metadata": {},
   "outputs": [
    {
     "name": "stdout",
     "output_type": "stream",
     "text": [
      "[ 0  1  2  3  4  5  6  7  8  9 10 11 12 13 14]\n"
     ]
    }
   ],
   "source": [
    "arr = np.arange(15)\n",
    "print(arr)"
   ]
  },
  {
   "cell_type": "code",
   "execution_count": 47,
   "metadata": {},
   "outputs": [
    {
     "data": {
      "text/plain": [
       "array([array([0, 1, 2, 3]), array([2, 3, 4, 5]), array([4, 5, 6, 7]),\n",
       "       array([6, 7, 8, 9]), array([ 8,  9, 10, 11]),\n",
       "       array([10, 11, 12, 13]), array([12, 13, 14])], dtype=object)"
      ]
     },
     "execution_count": 47,
     "metadata": {},
     "output_type": "execute_result"
    }
   ],
   "source": [
    "def gen_stride(a, stride_len=5, window_len=5):\n",
    "    n_strides = ((a.size-window_len)/stride_len)+1\n",
    "    return np.array([a[s:(s+window_len)] for s in np.arange(0, int(n_strides*stride_len), stride_len)])\n",
    "gen_stride(arr,stride_len=2,window_len= 4)"
   ]
  }
 ],
 "metadata": {
  "kernelspec": {
   "display_name": "Python 3",
   "language": "python",
   "name": "python3"
  },
  "language_info": {
   "codemirror_mode": {
    "name": "ipython",
    "version": 3
   },
   "file_extension": ".py",
   "mimetype": "text/x-python",
   "name": "python",
   "nbconvert_exporter": "python",
   "pygments_lexer": "ipython3",
   "version": "3.5.2"
  }
 },
 "nbformat": 4,
 "nbformat_minor": 2
}
