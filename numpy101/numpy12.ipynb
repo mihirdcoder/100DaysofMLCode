{
 "cells": [
  {
   "cell_type": "code",
   "execution_count": 1,
   "metadata": {},
   "outputs": [],
   "source": [
    "import numpy as np"
   ]
  },
  {
   "cell_type": "markdown",
   "metadata": {},
   "source": [
    "How to find the maximum value in each row of a numpy array 2d?\n",
    "DifficultyLevel: L2\n",
    "\n",
    "Q. Compute the maximum for each row in the given array."
   ]
  },
  {
   "cell_type": "code",
   "execution_count": 5,
   "metadata": {},
   "outputs": [
    {
     "name": "stdout",
     "output_type": "stream",
     "text": [
      "[[9 9 4]\n",
      " [8 8 1]\n",
      " [5 3 6]\n",
      " [3 3 3]\n",
      " [2 1 9]]\n"
     ]
    }
   ],
   "source": [
    "np.random.seed(100)\n",
    "a = np.random.randint(1,10,[5,3])\n",
    "print(a)"
   ]
  },
  {
   "cell_type": "code",
   "execution_count": 9,
   "metadata": {},
   "outputs": [
    {
     "data": {
      "text/plain": [
       "array([9, 8, 6, 3, 9])"
      ]
     },
     "execution_count": 9,
     "metadata": {},
     "output_type": "execute_result"
    }
   ],
   "source": [
    "np.amax(a, axis=1)"
   ]
  },
  {
   "cell_type": "code",
   "execution_count": 10,
   "metadata": {},
   "outputs": [
    {
     "data": {
      "text/plain": [
       "array([9, 8, 6, 3, 9])"
      ]
     },
     "execution_count": 10,
     "metadata": {},
     "output_type": "execute_result"
    }
   ],
   "source": [
    "np.apply_along_axis(np.max, arr=a, axis=1)"
   ]
  },
  {
   "cell_type": "markdown",
   "metadata": {},
   "source": [
    "How to compute the min-by-max for each row for a numpy array 2d?\n",
    "DifficultyLevel: L3\n",
    "\n"
   ]
  },
  {
   "cell_type": "code",
   "execution_count": 15,
   "metadata": {},
   "outputs": [
    {
     "data": {
      "text/plain": [
       "array([0.44444444, 0.125     , 0.5       , 1.        , 0.11111111])"
      ]
     },
     "execution_count": 15,
     "metadata": {},
     "output_type": "execute_result"
    }
   ],
   "source": [
    "np.apply_along_axis(lambda x : np.min(x)/np.max(x), arr=a, axis=1)"
   ]
  },
  {
   "cell_type": "code",
   "execution_count": null,
   "metadata": {},
   "outputs": [],
   "source": [
    "How to find the duplicate records in a numpy array?\n",
    "Difficulty Level: L3\n",
    "\n",
    "Q. Find the duplicate entries (2nd occurrence onwards) in the given numpy array and mark them as True. First time occurrences should be False."
   ]
  },
  {
   "cell_type": "code",
   "execution_count": 17,
   "metadata": {},
   "outputs": [
    {
     "name": "stdout",
     "output_type": "stream",
     "text": [
      "[0 0 3 0 2 4 2 2 2 2]\n"
     ]
    }
   ],
   "source": [
    "np.random.seed(100)\n",
    "a = np.random.randint(0,5,10)\n",
    "print(a)"
   ]
  },
  {
   "cell_type": "code",
   "execution_count": 19,
   "metadata": {},
   "outputs": [
    {
     "name": "stdout",
     "output_type": "stream",
     "text": [
      "[0 4 2 5]\n",
      "[ True  True  True  True  True  True  True  True  True  True]\n"
     ]
    }
   ],
   "source": [
    "out = np.full(a.shape[0], True)\n",
    "unique_pos = np.unique(a, return_index=True)[1]\n",
    "print(unique_pos)\n",
    "print(out)"
   ]
  },
  {
   "cell_type": "code",
   "execution_count": 21,
   "metadata": {},
   "outputs": [
    {
     "name": "stdout",
     "output_type": "stream",
     "text": [
      "[False  True False  True False False  True  True  True  True]\n"
     ]
    }
   ],
   "source": [
    "out[unique_pos] = False\n",
    "print(out)"
   ]
  },
  {
   "cell_type": "markdown",
   "metadata": {},
   "source": [
    " How to find the grouped mean in numpy?\n",
    "Difficulty Level L3\n",
    "\n",
    "Q. Find the mean of a numeric column grouped by a categorical column in a 2D numpy array\n",
    "\n"
   ]
  },
  {
   "cell_type": "code",
   "execution_count": 22,
   "metadata": {},
   "outputs": [],
   "source": [
    "url = '/home/mihir/ML_practice/numpy101/archive.ics.uci.edu/ml/machine-learning-databases/iris/iris.data'\n",
    "iris = np.genfromtxt(url, delimiter=',',dtype='object')\n",
    "names = ('sepallength','sepalwidth','petallength','petalwidth','species')"
   ]
  },
  {
   "cell_type": "code",
   "execution_count": 23,
   "metadata": {},
   "outputs": [
    {
     "data": {
      "text/plain": [
       "[[b'Iris-setosa', 3.418],\n",
       " [b'Iris-versicolor', 2.7700000000000005],\n",
       " [b'Iris-virginica', 2.974]]"
      ]
     },
     "execution_count": 23,
     "metadata": {},
     "output_type": "execute_result"
    }
   ],
   "source": [
    "numeric_column = iris[:,1].astype('float')\n",
    "grouping_column = iris[:,4]\n",
    "[[group_val, numeric_column[grouping_column == group_val].mean()]for group_val in np.unique(grouping_column)]"
   ]
  },
  {
   "cell_type": "code",
   "execution_count": 27,
   "metadata": {},
   "outputs": [
    {
     "name": "stdout",
     "output_type": "stream",
     "text": [
      "[[b'Iris-setosa', 3.418], [b'Iris-versicolor', 2.7700000000000005], [b'Iris-virginica', 2.974]]\n"
     ]
    }
   ],
   "source": [
    "op = []\n",
    "for group_val in np.unique(grouping_column):\n",
    "    op.append([group_val, numeric_column[grouping_column==group_val].mean()])\n",
    "print(op)"
   ]
  },
  {
   "cell_type": "markdown",
   "metadata": {},
   "source": [
    "How to convert a PIL image to numpy array?\n",
    "Difficulty Level: L3\n",
    "\n",
    "Q. Import the image from the following URL and convert it to a numpy array.\n",
    "\n",
    "URL = 'https://upload.wikimedia.org/wikipedia/commons/8/8b/Denali_Mt_McKinley.jpg'"
   ]
  },
  {
   "cell_type": "code",
   "execution_count": 30,
   "metadata": {},
   "outputs": [],
   "source": [
    "from io import BytesIO\n",
    "from PIL import Image\n",
    "import PIL, requests\n",
    "\n",
    "URL = 'https://upload.wikimedia.org/wikipedia/commons/8/8b/Denali_Mt_McKinley.jpg'\n",
    "response = requests.get(URL)\n",
    "I = Image.open(BytesIO(response.content))\n",
    "I = I.resize([150,150])\n",
    "arr = np.asarray(I)\n",
    "im = PIL.Image.fromarray(np.uint8(arr))\n",
    "Image.Image.show(im)"
   ]
  }
 ],
 "metadata": {
  "kernelspec": {
   "display_name": "Python 3",
   "language": "python",
   "name": "python3"
  },
  "language_info": {
   "codemirror_mode": {
    "name": "ipython",
    "version": 3
   },
   "file_extension": ".py",
   "mimetype": "text/x-python",
   "name": "python",
   "nbconvert_exporter": "python",
   "pygments_lexer": "ipython3",
   "version": "3.5.2"
  }
 },
 "nbformat": 4,
 "nbformat_minor": 2
}
