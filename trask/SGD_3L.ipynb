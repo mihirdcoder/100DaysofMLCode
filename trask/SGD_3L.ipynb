{
 "cells": [
  {
   "cell_type": "code",
   "execution_count": 1,
   "metadata": {},
   "outputs": [],
   "source": [
    "import numpy as np"
   ]
  },
  {
   "cell_type": "code",
   "execution_count": 2,
   "metadata": {},
   "outputs": [],
   "source": [
    "alphas = [0.001,0.01,0.1,1,1.,100,1000]\n",
    "def sigmoid(x):\n",
    "    output = 1/(1+np.exp(-x))\n",
    "    return output\n",
    "def sigmoid_output_to_derivative(output):\n",
    "    return output*(1 - output)"
   ]
  },
  {
   "cell_type": "code",
   "execution_count": 13,
   "metadata": {},
   "outputs": [],
   "source": [
    "X = np.array([[0,0,1],[0,1,1],[1,0,1],[1,1,1]])\n",
    "y = np.array([[0],[1],[1],[0]])"
   ]
  },
  {
   "cell_type": "code",
   "execution_count": 16,
   "metadata": {},
   "outputs": [
    {
     "name": "stdout",
     "output_type": "stream",
     "text": [
      "\n",
      "Training With Alpha:0.001\n",
      "Error after 0 iterations:0.4964100319027255\n",
      "Error after 10000 iterations:0.49516402549338606\n",
      "Error after 20000 iterations:0.4935960431880486\n",
      "Error after 30000 iterations:0.4916063585594306\n",
      "Error after 40000 iterations:0.48910016654420474\n",
      "Error after 50000 iterations:0.4859778578461583\n",
      "\n",
      "Training With Alpha:0.01\n",
      "Error after 0 iterations:0.4964100319027255\n",
      "Error after 10000 iterations:0.45743107444190134\n",
      "Error after 20000 iterations:0.359097202563399\n",
      "Error after 30000 iterations:0.23935813715897256\n",
      "Error after 40000 iterations:0.14307065901337032\n",
      "Error after 50000 iterations:0.09859642980892716\n",
      "\n",
      "Training With Alpha:0.1\n",
      "Error after 0 iterations:0.4964100319027255\n",
      "Error after 10000 iterations:0.042888017000115825\n",
      "Error after 20000 iterations:0.024098994228521613\n",
      "Error after 30000 iterations:0.018110652146797846\n",
      "Error after 40000 iterations:0.014987616272210912\n",
      "Error after 50000 iterations:0.013014490538142586\n",
      "\n",
      "Training With Alpha:1\n",
      "Error after 0 iterations:0.4964100319027255\n",
      "Error after 10000 iterations:0.008584525653247157\n",
      "Error after 20000 iterations:0.0057894598625078085\n",
      "Error after 30000 iterations:0.004629176776769985\n",
      "Error after 40000 iterations:0.0039587652802736475\n",
      "Error after 50000 iterations:0.003510122567861678\n",
      "\n",
      "Training With Alpha:1.0\n",
      "Error after 0 iterations:0.4964100319027255\n",
      "Error after 10000 iterations:0.008584525653247157\n",
      "Error after 20000 iterations:0.0057894598625078085\n",
      "Error after 30000 iterations:0.004629176776769985\n",
      "Error after 40000 iterations:0.0039587652802736475\n",
      "Error after 50000 iterations:0.003510122567861678\n",
      "\n",
      "Training With Alpha:100\n",
      "Error after 0 iterations:0.4964100319027255\n",
      "Error after 10000 iterations:0.12547698385380932\n",
      "Error after 20000 iterations:0.12533033352910083\n",
      "Error after 30000 iterations:0.1252677287667577\n",
      "Error after 40000 iterations:0.12523107366284103\n",
      "Error after 50000 iterations:0.12520635275876102\n",
      "\n",
      "Training With Alpha:1000\n",
      "Error after 0 iterations:0.4964100319027255\n",
      "Error after 10000 iterations:0.5\n",
      "Error after 20000 iterations:0.5\n",
      "Error after 30000 iterations:0.5\n",
      "Error after 40000 iterations:0.5\n",
      "Error after 50000 iterations:0.5\n"
     ]
    }
   ],
   "source": [
    "for alpha in alphas:\n",
    "    print (\"\\nTraining With Alpha:\" + str(alpha))\n",
    "    np.random.seed(1)\n",
    "\n",
    "    # randomly initialize our weights with mean 0\n",
    "    synapse_0 = 2*np.random.random((3,4)) - 1\n",
    "    synapse_1 = 2*np.random.random((4,1)) - 1\n",
    "\n",
    "    for j in range(60000):\n",
    "\n",
    "        # Feed forward through layers 0, 1, and 2\n",
    "        layer_0 = X\n",
    "        layer_1 = sigmoid(np.dot(layer_0,synapse_0))\n",
    "        layer_2 = sigmoid(np.dot(layer_1,synapse_1))\n",
    "\n",
    "        # how much did we miss the target value?\n",
    "        layer_2_error = layer_2 - y\n",
    "\n",
    "        if (j% 10000) == 0:\n",
    "            print (\"Error after \"+str(j)+\" iterations:\" + str(np.mean(np.abs(layer_2_error))))\n",
    "\n",
    "        # in what direction is the target value?\n",
    "        # were we really sure? if so, don't change too much.\n",
    "        layer_2_delta = layer_2_error*sigmoid_output_to_derivative(layer_2)\n",
    "\n",
    "        # how much did each l1 value contribute to the l2 error (according to the weights)?\n",
    "        layer_1_error = layer_2_delta.dot(synapse_1.T)\n",
    "\n",
    "        # in what direction is the target l1?\n",
    "        # were we really sure? if so, don't change too much.\n",
    "        layer_1_delta = layer_1_error * sigmoid_output_to_derivative(layer_1)\n",
    "\n",
    "        synapse_1 -= alpha * (layer_1.T.dot(layer_2_delta))\n",
    "        synapse_0 -= alpha * (layer_0.T.dot(layer_1_delta))"
   ]
  },
  {
   "cell_type": "code",
   "execution_count": 7,
   "metadata": {},
   "outputs": [
    {
     "name": "stdout",
     "output_type": "stream",
     "text": [
      "[[ 0.2968609 ]\n",
      " [-0.23449423]\n",
      " [-0.03897514]\n",
      " [ 0.83831372]]\n"
     ]
    }
   ],
   "source": [
    "synapse_0 = 2*np.random.random((3,4)) - 1\n",
    "synapse_1 = 2*np.random.random((4,1)) - 1\n",
    "print(synapse_1)"
   ]
  }
 ],
 "metadata": {
  "kernelspec": {
   "display_name": "Python 3",
   "language": "python",
   "name": "python3"
  },
  "language_info": {
   "codemirror_mode": {
    "name": "ipython",
    "version": 3
   },
   "file_extension": ".py",
   "mimetype": "text/x-python",
   "name": "python",
   "nbconvert_exporter": "python",
   "pygments_lexer": "ipython3",
   "version": "3.5.2"
  }
 },
 "nbformat": 4,
 "nbformat_minor": 2
}
