{
  "cells": [
    {
      "metadata": {
        "_uuid": "8f2839f25d086af736a60e9eeb907d3b93b6e0e5",
        "_cell_guid": "b1076dfc-b9ad-4769-8c92-a6c4dae69d19",
        "trusted": true
      },
      "cell_type": "code",
      "source": "# This Python 3 environment comes with many helpful analytics libraries installed\n# It is defined by the kaggle/python docker image: https://github.com/kaggle/docker-python\n# For example, here's several helpful packages to load in \n\nimport numpy as np # linear algebra\nimport pandas as pd # data processing, CSV file I/O (e.g. pd.read_csv)\n\n# Input data files are available in the \"../input/\" directory.\n# For example, running this (by clicking run or pressing Shift+Enter) will list the files in the input directory\n\nimport os\nprint(os.listdir(\"../input\"))\n\n# Any results you write to the current directory are saved as output.",
      "execution_count": 1,
      "outputs": [
        {
          "output_type": "stream",
          "text": "['train.csv', 'sample_submission.csv', 'test.csv']\n",
          "name": "stdout"
        }
      ]
    },
    {
      "metadata": {
        "trusted": true,
        "_uuid": "6b24cd1121bce5152b6ba340071b7757a99838cd"
      },
      "cell_type": "code",
      "source": "import seaborn as sns\nfrom keras.utils.np_utils import to_categorical\nfrom keras.models import Sequential\nfrom keras.layers import Dense, Dropout, Flatten, Conv2D, MaxPool2D\nfrom keras.optimizers import RMSprop\nfrom keras.preprocessing.image import ImageDataGenerator\nfrom keras.callbacks import ReduceLROnPlateau\nfrom sklearn.model_selection import train_test_split\nfrom sklearn.metrics import confusion_matrix\nimport matplotlib.pyplot as plt\nimport matplotlib.image as mpimg\n",
      "execution_count": 21,
      "outputs": []
    },
    {
      "metadata": {
        "_cell_guid": "79c7e3d0-c299-4dcb-8224-4455121ee9b0",
        "_uuid": "d629ff2d2480ee46fbb7e2d37f6b5fab8052498a",
        "trusted": true,
        "collapsed": true
      },
      "cell_type": "code",
      "source": "train = pd.read_csv(\"../input/train.csv\")\ntest = pd.read_csv(\"../input/test.csv\")",
      "execution_count": 3,
      "outputs": []
    },
    {
      "metadata": {
        "trusted": true,
        "_uuid": "668ea22e95c726305f2cb3be8613ca8890e6a45c"
      },
      "cell_type": "code",
      "source": "Y_train = train[\"label\"]\nX_train = train.drop(labels=[\"label\"], axis = 1)\ndel train\ng = sns.countplot(Y_train)\nY_train.value_counts()",
      "execution_count": 4,
      "outputs": [
        {
          "output_type": "execute_result",
          "execution_count": 4,
          "data": {
            "text/plain": "1    4684\n7    4401\n3    4351\n9    4188\n2    4177\n6    4137\n0    4132\n4    4072\n8    4063\n5    3795\nName: label, dtype: int64"
          },
          "metadata": {}
        },
        {
          "output_type": "display_data",
          "data": {
            "text/plain": "<matplotlib.figure.Figure at 0x7f956b4abd30>",
            "image/png": "[encoded data removed]"
          },
          "metadata": {}
        }
      ]
    },
    {
      "metadata": {
        "trusted": true,
        "_uuid": "f268b824ab805e808b4a508ba99e8d89e90c60ea"
      },
      "cell_type": "code",
      "source": "X_train.isnull().any().describe()",
      "execution_count": 5,
      "outputs": [
        {
          "output_type": "execute_result",
          "execution_count": 5,
          "data": {
            "text/plain": "count       784\nunique        1\ntop       False\nfreq        784\ndtype: object"
          },
          "metadata": {}
        }
      ]
    },
    {
      "metadata": {
        "trusted": true,
        "_uuid": "6aa72b0a157eb95312712c68edf51ffba3e72952",
        "collapsed": true
      },
      "cell_type": "code",
      "source": "test.isnull().any().describe()",
      "execution_count": null,
      "outputs": []
    },
    {
      "metadata": {
        "trusted": true,
        "collapsed": true,
        "_uuid": "8a42d7087b2cf7cfb6e5a225260736893dca6650"
      },
      "cell_type": "code",
      "source": "X_train = X_train/255.0\ntest = test / 255.0",
      "execution_count": 6,
      "outputs": []
    },
    {
      "metadata": {
        "trusted": true,
        "collapsed": true,
        "_uuid": "9ae7b6c328432effd72b4c67ac087a94b13f1371"
      },
      "cell_type": "code",
      "source": "X_train = X_train.values.reshape(-1,28,28,1)\ntest = test.values.reshape(-1,28,28,1)",
      "execution_count": 7,
      "outputs": []
    },
    {
      "metadata": {
        "trusted": true,
        "_uuid": "d43d4c72074af62a868a809c29d223ad967b89b5"
      },
      "cell_type": "code",
      "source": "print(Y_train[:4])",
      "execution_count": 8,
      "outputs": [
        {
          "output_type": "stream",
          "text": "0    1\n1    0\n2    1\n3    4\nName: label, dtype: int64\n",
          "name": "stdout"
        }
      ]
    },
    {
      "metadata": {
        "trusted": true,
        "_uuid": "989a8b6f9283a0892f7604abf31d76221ddc2aea",
        "collapsed": true
      },
      "cell_type": "code",
      "source": "Y_train = to_categorical(Y_train, num_classes = 10)",
      "execution_count": 9,
      "outputs": []
    },
    {
      "metadata": {
        "trusted": true,
        "_uuid": "8e7929c96fb40410a2424e7da79bf1acad80df6b"
      },
      "cell_type": "code",
      "source": "print(Y_train)",
      "execution_count": 10,
      "outputs": [
        {
          "output_type": "stream",
          "text": "[[0. 1. 0. ... 0. 0. 0.]\n [1. 0. 0. ... 0. 0. 0.]\n [0. 1. 0. ... 0. 0. 0.]\n ...\n [0. 0. 0. ... 1. 0. 0.]\n [0. 0. 0. ... 0. 0. 0.]\n [0. 0. 0. ... 0. 0. 1.]]\n",
          "name": "stdout"
        }
      ]
    },
    {
      "metadata": {
        "trusted": true,
        "collapsed": true,
        "_uuid": "6feb49c912560ac28c0ef23821e9de6c564c42fa"
      },
      "cell_type": "code",
      "source": "",
      "execution_count": null,
      "outputs": []
    },
    {
      "metadata": {
        "trusted": true,
        "collapsed": true,
        "_uuid": "fd432cfa06974bf19ae19a0eec968d76dffe7c2c"
      },
      "cell_type": "code",
      "source": "random_seed = 2",
      "execution_count": 11,
      "outputs": []
    },
    {
      "metadata": {
        "trusted": true,
        "_uuid": "c10ea36d688ba1753d0b3407267ad9b6526279ef",
        "collapsed": true
      },
      "cell_type": "code",
      "source": "X_train, X_val, Y_train, Y_val = train_test_split(X_train, Y_train, test_size = 0.1,random_state = random_seed)",
      "execution_count": 12,
      "outputs": []
    },
    {
      "metadata": {
        "trusted": true,
        "_uuid": "58f77ae1cd92d54a65ac8f5fe445433e84bc8186"
      },
      "cell_type": "code",
      "source": "#g = print(X_train[0][:,:,0])\nprint(\"\")",
      "execution_count": 15,
      "outputs": [
        {
          "output_type": "stream",
          "text": "\n",
          "name": "stdout"
        }
      ]
    },
    {
      "metadata": {
        "trusted": true,
        "_uuid": "6f18eb07513a3650b0958b3d43e94a946cf934cd"
      },
      "cell_type": "code",
      "source": "model = Sequential()\nmodel.add(Conv2D(filters = 32, kernel_size = (5,5), padding = 'Same', activation = 'relu', input_shape = (28,28,1)))\nmodel.add(Conv2D(filters = 32, kernel_size = (5,5), padding = 'Same', activation = 'relu'))\nmodel.add(MaxPool2D(pool_size = (2,2)))\nmodel.add(Dropout(0.25))\n\nmodel.add(Conv2D(filters = 64, kernel_size = (3,3), padding = 'Same', activation='relu'))\nmodel.add(Conv2D(filters = 64, kernel_size = (3,3), padding = 'Same', activation = 'relu'))\nmodel.add(MaxPool2D(pool_size = (2,2), strides = (2,2)))\nmodel.add(Dropout(0.25))\n\nmodel.add(Flatten())\nmodel.add(Dense(256, activation = \"relu\"))\nmodel.add(Dropout(0.5))\nmodel.add(Dense(10, activation = \"softmax\"))",
      "execution_count": 28,
      "outputs": []
    },
    {
      "metadata": {
        "trusted": true,
        "_uuid": "2ab94373421047724eda6aa5ff2827be2abebf8b"
      },
      "cell_type": "code",
      "source": "optimizer = RMSprop(lr = 0.001, rho = 0.9, epsilon = 1e-08, decay=0.0)",
      "execution_count": 35,
      "outputs": []
    },
    {
      "metadata": {
        "trusted": true,
        "_uuid": "fa08e79adf6578f3e2553b8ab871fae325d235f8"
      },
      "cell_type": "code",
      "source": "model.compile(optimizer = optimizer, loss = \"categorical_crossentropy\", metrics = [\"accuracy\"])",
      "execution_count": 36,
      "outputs": []
    },
    {
      "metadata": {
        "trusted": true,
        "_uuid": "43279a049f40bce533fca6e96f2e659781debf3d"
      },
      "cell_type": "code",
      "source": "history = model.fit(X_train, Y_train, batch_size = 86, epochs = 1, validation_data = (X_val, Y_val), verbose = 2)",
      "execution_count": 40,
      "outputs": [
        {
          "output_type": "stream",
          "text": "Train on 37800 samples, validate on 4200 samples\nEpoch 1/1\n - 261s - loss: 0.2406 - acc: 0.9233 - val_loss: 0.1124 - val_acc: 0.9650\n",
          "name": "stdout"
        }
      ]
    },
    {
      "metadata": {
        "_uuid": "1f2481dbf807c16b8e4b8249a69cb952135c1979"
      },
      "cell_type": "markdown",
      "source": "In order to make the optimizer converge faster and closest to the global minimum of the loss function, i used an annealing method of the learning rate (LR).\n\nThe LR is the step by which the optimizer walks through the 'loss landscape'. The higher LR, the bigger are the steps and the quicker is the convergence. However the sampling is very poor with an high LR and the optimizer could probably fall into a local minima.\n\nIts better to have a decreasing learning rate during the training to reach efficiently the global minimum of the loss function."
    },
    {
      "metadata": {
        "trusted": true,
        "collapsed": true,
        "_uuid": "087e8fecbca525bf6217b8edc1c7c0694fd950cc"
      },
      "cell_type": "code",
      "source": "learning_rate_reduction = ReduceLROnPlateau(monitor='val_acc', \n                                            patience=3, \n                                            verbose=1, \n                                            factor=0.5, \n                                            min_lr=0.00001)",
      "execution_count": 41,
      "outputs": []
    },
    {
      "metadata": {
        "_uuid": "3c0a83fd2d3af4cd62f267df1ca92e53ed01dc17"
      },
      "cell_type": "markdown",
      "source": "For the data augmentation, i choosed to :\n\nRandomly rotate some training images by 10 degrees\nRandomly Zoom by 10% some training images\nRandomly shift images horizontally by 10% of the width\nRandomly shift images vertically by 10% of the height\nI did not apply a vertical_flip nor horizontal_flip since it could have lead to misclassify symetrical numbers such as 6 and 9.\n\nOnce our model is ready, we fit the training dataset .\n\nn order to avoid overfitting problem, we need to expand artificially our handwritten digit dataset. We can make your existing dataset even larger. The idea is to alter the training data with small transformations to reproduce the variations occuring when someone is writing a digit.\n\nFor example, the number is not centered The scale is not the same (some who write with big/small numbers) The image is rotated...\n\nApproaches that alter the training data in ways that change the array representation while keeping the label the same are known as data augmentation techniques. Some popular augmentations people use are grayscales, horizontal flips, vertical flips, random crops, color jitters, translations, rotations, and much more.\n\nBy applying just a couple of these transformations to our training data, we can easily double or triple the number of training examples and create a very robust model.\n\nThe improvement is important :\n\n"
    },
    {
      "metadata": {
        "trusted": true,
        "collapsed": true,
        "_uuid": "6a07ef922e5022534d1d6cceb1364a1a2d994f0b"
      },
      "cell_type": "code",
      "source": "datagen = ImageDataGenerator(\n        featurewise_center=False,  # set input mean to 0 over the dataset\n        samplewise_center=False,  # set each sample mean to 0\n        featurewise_std_normalization=False,  # divide inputs by std of the dataset\n        samplewise_std_normalization=False,  # divide each input by its std\n        zca_whitening=False,  # apply ZCA whitening\n        rotation_range=10,  # randomly rotate images in the range (degrees, 0 to 180)\n        zoom_range = 0.1, # Randomly zoom image \n        width_shift_range=0.1,  # randomly shift images horizontally (fraction of total width)\n        height_shift_range=0.1,  # randomly shift images vertically (fraction of total height)\n        horizontal_flip=False,  # randomly flip images\n        vertical_flip=False)  # randomly flip images\ndatagen.fit(X_train)",
      "execution_count": 42,
      "outputs": []
    },
    {
      "metadata": {
        "trusted": true,
        "collapsed": true,
        "_uuid": "5b56c967435e2ff89d6a0885ca5d5595cfbaf570"
      },
      "cell_type": "code",
      "source": "model1 = Sequential()\nmodel1.add(Conv2D(filters = 32, kernel_size = (5,5), padding = 'Same', activation = 'relu', input_shape = (28,28,1)))\nmodel1.add(Conv2D(filters = 32, kernel_size = (5,5), padding = 'Same', activation = 'relu'))\nmodel1.add(MaxPool2D(pool_size = (2,2)))\nmodel1.add(Dropout(0.25))\n\nmodel1.add(Conv2D(filters = 64, kernel_size = (3,3), padding = 'Same', activation='relu'))\nmodel1.add(Conv2D(filters = 64, kernel_size = (3,3), padding = 'Same', activation = 'relu'))\nmodel1.add(MaxPool2D(pool_size = (2,2), strides = (2,2)))\nmodel1.add(Dropout(0.25))\n\nmodel1.add(Flatten())\nmodel1.add(Dense(256, activation = \"relu\"))\nmodel1.add(Dropout(0.5))\nmodel1.add(Dense(10, activation = \"softmax\"))",
      "execution_count": 45,
      "outputs": []
    },
    {
      "metadata": {
        "trusted": true,
        "_uuid": "7fd27a95530962e0d1d83004df003576a68dc8e4"
      },
      "cell_type": "code",
      "source": "model1.compile(optimizer = optimizer, loss = \"categorical_crossentropy\", metrics = [\"accuracy\"])",
      "execution_count": 46,
      "outputs": []
    },
    {
      "metadata": {
        "trusted": true,
        "_uuid": "248f92fad0871957763978873537f51ce270f2e8"
      },
      "cell_type": "code",
      "source": "history = model1.fit_generator(datagen.flow(X_train,Y_train, batch_size=86),\n                              epochs = 5, validation_data = (X_val,Y_val),\n                              verbose = 2, steps_per_epoch=X_train.shape[0] // 86\n                              , callbacks=[learning_rate_reduction])",
      "execution_count": 52,
      "outputs": [
        {
          "output_type": "stream",
          "text": "Epoch 1/5\n - 297s - loss: 0.4185 - acc: 0.8651 - val_loss: 0.0705 - val_acc: 0.9781\nEpoch 2/5\n - 296s - loss: 0.1233 - acc: 0.9624 - val_loss: 0.0361 - val_acc: 0.9876\nEpoch 3/5\n - 294s - loss: 0.0907 - acc: 0.9735 - val_loss: 0.0326 - val_acc: 0.9905\nEpoch 4/5\n - 301s - loss: 0.0780 - acc: 0.9770 - val_loss: 0.0302 - val_acc: 0.9900\nEpoch 5/5\n - 296s - loss: 0.0730 - acc: 0.9782 - val_loss: 0.0527 - val_acc: 0.9862\n",
          "name": "stdout"
        }
      ]
    },
    {
      "metadata": {
        "trusted": true,
        "_uuid": "8c791764d789cf16753f24e15eb77d61cc69cd81"
      },
      "cell_type": "code",
      "source": "fig, ax = plt.subplots(2,1)\nax[0].plot(history.history['loss'], color='b', label=\"Training loss\")\nax[0].plot(history.history['val_loss'], color='r', label=\"validation loss\",axes =ax[0])\nlegend = ax[0].legend(loc='best', shadow=True)\n\nax[1].plot(history.history['acc'], color='b', label=\"Training accuracy\")\nax[1].plot(history.history['val_acc'], color='r',label=\"Validation accuracy\")\nlegend = ax[1].legend(loc='best', shadow=True)",
      "execution_count": 53,
      "outputs": [
        {
          "output_type": "display_data",
          "data": {
            "text/plain": "<matplotlib.figure.Figure at 0x7f9554e0da20>",
            "image/png": "[encoded data removed]"
          },
          "metadata": {}
        }
      ]
    },
    {
      "metadata": {
        "trusted": true,
        "collapsed": true,
        "_uuid": "b9756ee0eb03752dd5e69f4cf0cf60cb241da1bc"
      },
      "cell_type": "code",
      "source": "results = model.predict(test)\n\n# select the indix with the maximum probability\nresults = np.argmax(results,axis = 1)\n\nresults = pd.Series(results,name=\"Label\")",
      "execution_count": null,
      "outputs": []
    },
    {
      "metadata": {
        "trusted": true,
        "collapsed": true,
        "_uuid": "2e6c44b0aef031985d42330ad436999d6837bdd6"
      },
      "cell_type": "code",
      "source": "submission = pd.concat([pd.Series(range(1,28001),name = \"ImageId\"),results],axis = 1)\n\nsubmission.to_csv(\"cnn_mnist_datagen.csv\",index=False)",
      "execution_count": null,
      "outputs": []
    }
  ],
  "metadata": {
    "kernelspec": {
      "display_name": "Python 3",
      "language": "python",
      "name": "python3"
    },
    "language_info": {
      "name": "python",
      "version": "3.6.6",
      "mimetype": "text/x-python",
      "codemirror_mode": {
        "name": "ipython",
        "version": 3
      },
      "pygments_lexer": "ipython3",
      "nbconvert_exporter": "python",
      "file_extension": ".py"
    }
  },
  "nbformat": 4,
  "nbformat_minor": 1
}