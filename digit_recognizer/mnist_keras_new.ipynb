{
  "cells": [
    {
      "metadata": {
        "_uuid": "9604d7794c27fe4e3b165adcd0cab7266562f0d7"
      },
      "cell_type": "markdown",
      "source": "https://www.kaggle.com/poonaml/deep-neural-network-keras-way"
    },
    {
      "metadata": {
        "_uuid": "8f2839f25d086af736a60e9eeb907d3b93b6e0e5",
        "_cell_guid": "b1076dfc-b9ad-4769-8c92-a6c4dae69d19",
        "trusted": true,
        "collapsed": true
      },
      "cell_type": "code",
      "source": "import numpy as np \nimport pandas as pd \n\nimport matplotlib.pyplot as plt\n%matplotlib inline\n\nfrom keras.models import Sequential\nfrom keras.layers import Dense, Dropout, Lambda, Flatten\nfrom keras.optimizers import Adam, RMSprop\nfrom sklearn.model_selection import train_test_split\nfrom keras import backend as K\nfrom keras.preprocessing.image import ImageDataGenerator",
      "execution_count": null,
      "outputs": []
    },
    {
      "metadata": {
        "trusted": true,
        "_uuid": "00020c835decd14a6165e0b283f0d8dc54b4367b",
        "collapsed": true
      },
      "cell_type": "code",
      "source": "train = pd.read_csv(\"../input/train.csv\")\ntest= pd.read_csv(\"../input/test.csv\")\nprint(train.shape)\nprint(test.shape)\n",
      "execution_count": null,
      "outputs": []
    },
    {
      "metadata": {
        "trusted": true,
        "_uuid": "911555b9659560266b13346cda7057b876d04615",
        "collapsed": true
      },
      "cell_type": "code",
      "source": "X_train = train.iloc[:,1:].values.astype('float32')\ny_train = train.iloc[:,0].values.astype('int32')\nX_test = test.values.astype('float32')",
      "execution_count": null,
      "outputs": []
    },
    {
      "metadata": {
        "trusted": true,
        "_uuid": "60ac3bb950384b6a46bf356d839c469dac119f56",
        "collapsed": true
      },
      "cell_type": "code",
      "source": "X_train = X_train.reshape(X_train.shape[0],28,28)\nX_train.shape\nfor i in range(6,9):\n    plt.subplot(330+(i+1))\n    plt.imshow(X_train[i], cmap=plt.get_cmap('gray'))\n    plt.title(y_train[i])",
      "execution_count": null,
      "outputs": []
    },
    {
      "metadata": {
        "trusted": true,
        "_uuid": "59965e8f1252ac0e5bec82318840e8791243a6d5",
        "collapsed": true
      },
      "cell_type": "code",
      "source": "X_train =  X_train.reshape(X_train.shape[0],28,28,1)\nX_train.shape",
      "execution_count": null,
      "outputs": []
    },
    {
      "metadata": {
        "trusted": true,
        "_uuid": "fd8fc5fb1dfa68142b2da707045c67c2595c60d7",
        "collapsed": true
      },
      "cell_type": "code",
      "source": "X_test = X_test.reshape(X_test.shape[0],28,28,1)\nX_test.shape",
      "execution_count": null,
      "outputs": []
    },
    {
      "metadata": {
        "trusted": true,
        "_uuid": "30b38393a687f347051ef46b2eb686cf8c8c7b15",
        "collapsed": true
      },
      "cell_type": "code",
      "source": "mean_px = X_train.mean().astype(np.float32)\nstd_px = X_train.std().astype(np.float32)",
      "execution_count": null,
      "outputs": []
    },
    {
      "metadata": {
        "trusted": true,
        "collapsed": true,
        "_uuid": "31962a43735505491bd5c5d881fd3e3565aeb9f5"
      },
      "cell_type": "code",
      "source": "def standardize(x):\n    return (x-mean_px)/std_px",
      "execution_count": null,
      "outputs": []
    },
    {
      "metadata": {
        "trusted": true,
        "_uuid": "5cde540cfdb9acf50c8cfd09086fa007487f7dcb",
        "collapsed": true
      },
      "cell_type": "code",
      "source": "from keras.utils.np_utils import to_categorical\ny_train = to_categorical(y_train)\nnum_classes = y_train.shape[1]\nnum_classes\n",
      "execution_count": null,
      "outputs": []
    },
    {
      "metadata": {
        "trusted": true,
        "collapsed": true,
        "_uuid": "b29560af09e91cd6eb05f683172b03d0266ef072"
      },
      "cell_type": "code",
      "source": "seed = 43\nnp.random.seed(seed)",
      "execution_count": null,
      "outputs": []
    },
    {
      "metadata": {
        "trusted": true,
        "_uuid": "f7ed1dcbe6277eff83244824b915e8526e567c81",
        "collapsed": true
      },
      "cell_type": "code",
      "source": "from keras.models import Sequential\nfrom keras.layers.core import Lambda, Dense, Flatten, Dropout\nfrom keras.callbacks import EarlyStopping\nfrom keras.layers import BatchNormalization, Convolution2D, MaxPooling2D",
      "execution_count": null,
      "outputs": []
    },
    {
      "metadata": {
        "trusted": true,
        "_uuid": "3c0e3ea2c7c47a63b1a7813300b8db55107631df",
        "collapsed": true
      },
      "cell_type": "code",
      "source": "model = Sequential()\nmodel.add(Lambda(standardize, input_shape = (28,28,1)))\nmodel.add(Flatten())\nmodel.add(Dense(10, activation = 'softmax'))\nprint(\"input shape \", model.input_shape)\nprint(\"output shape \", model.output_shape)",
      "execution_count": null,
      "outputs": []
    },
    {
      "metadata": {
        "trusted": true,
        "collapsed": true,
        "_uuid": "d05f0f3dd33d482fb2f46517311f8e88486dc00e"
      },
      "cell_type": "code",
      "source": "from keras.optimizers import RMSprop\nmodel.compile(optimizer = RMSprop(lr=0.001), loss = 'categorical_crossentropy', metrics=['accuracy'])",
      "execution_count": null,
      "outputs": []
    },
    {
      "metadata": {
        "trusted": true,
        "collapsed": true,
        "_uuid": "571064401b78c4f6f151087b871792c9c31c8892"
      },
      "cell_type": "code",
      "source": "from keras.preprocessing import image\ngen = image.ImageDataGenerator()",
      "execution_count": null,
      "outputs": []
    },
    {
      "metadata": {
        "trusted": true,
        "_uuid": "95a6955011ec0afa27e3cd193ded61d0fbac3c76",
        "collapsed": true
      },
      "cell_type": "code",
      "source": "from sklearn.model_selection import train_test_split\nX = X_train\ny = y_train\nX_train, X_val, y_train, y_val = train_test_split(X_train, y_train, test_size = 10, random_state=42)\nbatches = gen.flow(X_train, y_train, batch_size = 64) \nval_batches = gen.flow(X_val, y_val, batch_size=64)",
      "execution_count": null,
      "outputs": []
    },
    {
      "metadata": {
        "trusted": true,
        "_uuid": "ce1658c791c6c9fee5067d13d41e8b5c58fc75c5",
        "collapsed": true
      },
      "cell_type": "code",
      "source": "history = model.fit_generator(generator = batches, steps_per_epoch = batches.n, epochs=3, validation_data=val_batches, validation_steps=val_batches.n)",
      "execution_count": null,
      "outputs": []
    },
    {
      "metadata": {
        "trusted": true,
        "_uuid": "bbde21c1849818fdc1db304e10533f1ffcaa6d29",
        "collapsed": true
      },
      "cell_type": "code",
      "source": "history_dict = history.history\nhistory_dict.keys()",
      "execution_count": null,
      "outputs": []
    },
    {
      "metadata": {
        "trusted": true,
        "_uuid": "bceedd12a86a76f07414955fed0ec6f3bb057110",
        "collapsed": true
      },
      "cell_type": "code",
      "source": "import matplotlib.pyplot as plt\n%matplotlib inline\nloss_values = history_dict['loss']\nval_loss_values = history_dict['val_loss']\nepochs = range(1,len(loss_values)+1)\nplt.plot(epochs, loss_values, 'bo')\nplt.plot(epochs, val_loss_values, 'b+')\nplt.xlabel('Epochs')\nplt.ylabel('Loss')\nplt.show()",
      "execution_count": null,
      "outputs": []
    },
    {
      "metadata": {
        "trusted": true,
        "collapsed": true,
        "_uuid": "ef2c1031bc9471b7c329554890388d4175f7a4a3"
      },
      "cell_type": "code",
      "source": "def get_fc_model():\n    model = Sequential([Lambda(standardize, input_shape=(28,28,1)),\n                       Flatten(),\n                       Dense(512, activation='relu'),\n                       Dense(10, activation='softmax')])\n    model.compile(optimizer='Adam', loss='categorical_crossentropy',metrics=['accuracy'])\n    return model",
      "execution_count": null,
      "outputs": []
    },
    {
      "metadata": {
        "trusted": true,
        "_uuid": "b730738ab0b50cb4bff39cd04cc4c583ee66a5d1",
        "collapsed": true
      },
      "cell_type": "code",
      "source": "fc = get_fc_model()\nfc.optimizer.lr = 0.01",
      "execution_count": null,
      "outputs": []
    },
    {
      "metadata": {
        "trusted": true,
        "collapsed": true,
        "_uuid": "347f2ccbed851316499f19f288010322cdc461a8"
      },
      "cell_type": "code",
      "source": "np.set_printoptions(precision=6)",
      "execution_count": null,
      "outputs": []
    },
    {
      "metadata": {
        "trusted": true,
        "_uuid": "3c6172b603c9df0c519ba97190cd98f008851629",
        "collapsed": true
      },
      "cell_type": "code",
      "source": "history=fc.fit_generator(generator=batches, steps_per_epoch=batches.n, epochs=1, \n                    validation_data=val_batches, validation_steps=val_batches.n)",
      "execution_count": null,
      "outputs": []
    },
    {
      "metadata": {
        "trusted": true,
        "_uuid": "5a86902de83a6620815b29e2dd944d072efb360d",
        "collapsed": true
      },
      "cell_type": "code",
      "source": "from keras.layers import Convolution2D, MaxPooling2D\ndef get_cnn_model():\n    model = Sequential([\n        Lambda(standardize,input_shape=(28,28,1)),\n        Convolution2D(32,(3,3), activation='relu'),\n        Convolution2D(32,(3,3), activation='relu'),\n        MaxPooling2D(),\n        Convolution2D(64,(3,3), activation='relu'),\n        Convolution2D(64,(3,3), activation = 'relu'),\n        MaxPooling2D(),\n        Flatten(),\n        Dense(512, activation='relu'),\n        Dense(10, activation='softmax')\n        ])\n    model.compile(Adam(),loss='categorical_crossentropy', metrics=['accuracy'])\n    return model\n    ",
      "execution_count": null,
      "outputs": []
    },
    {
      "metadata": {
        "trusted": true,
        "collapsed": true,
        "_uuid": "96b99102c8f3384697343dcb4f71098ba14a8aa7"
      },
      "cell_type": "code",
      "source": "model = get_cnn_model()\nmodel.optimizer.lr = 0.01",
      "execution_count": null,
      "outputs": []
    },
    {
      "metadata": {
        "trusted": true,
        "_uuid": "329ee9cce39c2f650de90f12147614df1ec5e50e",
        "collapsed": true
      },
      "cell_type": "code",
      "source": "history = model.fit_generator(generator=batches, steps_per_epoch=batches.n, epochs=1, validation_data=val_batches, validation_steps=val_batches.n)",
      "execution_count": null,
      "outputs": []
    },
    {
      "metadata": {
        "trusted": true,
        "collapsed": true,
        "_uuid": "13c22268d9d97dba0a89262adf93aa2ccc140165"
      },
      "cell_type": "code",
      "source": "predictions = model.predict_classes(X_test, verbose=0)\nsubmissions = pd.DataFrame({\"ImageId\":list(range(1,len(predictions)+1)),\"Label\":predictions})\nsubmissions.to_csv(\"DR.csv\",index=False, header=True)",
      "execution_count": null,
      "outputs": []
    },
    {
      "metadata": {
        "_cell_guid": "79c7e3d0-c299-4dcb-8224-4455121ee9b0",
        "collapsed": true,
        "_uuid": "d629ff2d2480ee46fbb7e2d37f6b5fab8052498a",
        "trusted": false
      },
      "cell_type": "markdown",
      "source": ""
    }
  ],
  "metadata": {
    "kernelspec": {
      "display_name": "Python 3",
      "language": "python",
      "name": "python3"
    },
    "language_info": {
      "name": "python",
      "version": "3.6.4",
      "mimetype": "text/x-python",
      "codemirror_mode": {
        "name": "ipython",
        "version": 3
      },
      "pygments_lexer": "ipython3",
      "nbconvert_exporter": "python",
      "file_extension": ".py"
    }
  },
  "nbformat": 4,
  "nbformat_minor": 1
}