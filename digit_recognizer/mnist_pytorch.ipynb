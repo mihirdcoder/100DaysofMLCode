{
  "cells": [
    {
      "metadata": {
        "_uuid": "bd4b4a4f34c522d885f6ebd33864fd0191f9618f"
      },
      "cell_type": "markdown",
      "source": "Here I am implimenting this kernel: https://www.kaggle.com/kanncaa1/pytorch-tutorial-for-deep-learning-lovers/notebook"
    },
    {
      "metadata": {
        "_uuid": "8f2839f25d086af736a60e9eeb907d3b93b6e0e5",
        "_cell_guid": "b1076dfc-b9ad-4769-8c92-a6c4dae69d19",
        "trusted": true,
        "collapsed": true
      },
      "cell_type": "code",
      "source": "import numpy as np\nimport pandas as pd\nimport matplotlib.pyplot as plt\nimport torch\nimport torch.nn as nn\nimport torchvision.transforms as transforms\nfrom torch.autograd import Variable\nfrom sklearn.model_selection import train_test_split",
      "execution_count": 1,
      "outputs": []
    },
    {
      "metadata": {
        "_cell_guid": "79c7e3d0-c299-4dcb-8224-4455121ee9b0",
        "collapsed": true,
        "_uuid": "d629ff2d2480ee46fbb7e2d37f6b5fab8052498a",
        "trusted": true
      },
      "cell_type": "code",
      "source": "train = pd.read_csv(r\"../input/train.csv\", dtype = np.float32)",
      "execution_count": 2,
      "outputs": []
    },
    {
      "metadata": {
        "trusted": true,
        "_uuid": "1a4692c95226b82ed36ca7ebc792e787d4e645a7",
        "collapsed": true
      },
      "cell_type": "code",
      "source": "targets_numpy = train.label.values\nfeatures_numpy = train.loc[:, train.columns != \"label\"].values/255\nfeatures_train, features_test, targets_train, target_test = train_test_split(features_numpy, targets_numpy, test_size=0.2,random_state = 42)",
      "execution_count": 3,
      "outputs": []
    },
    {
      "metadata": {
        "trusted": true,
        "collapsed": true,
        "_uuid": "50b73caba1f0cfa24ee8a4fb5efda4bc9efd7b02"
      },
      "cell_type": "code",
      "source": "featuresTrain = torch.from_numpy(features_train)\ntargetsTrain = torch.from_numpy(targets_train).type(torch.LongTensor)",
      "execution_count": 4,
      "outputs": []
    },
    {
      "metadata": {
        "trusted": true,
        "_uuid": "f4869ff1ac3724f9bcf3c7237569ebcdde643d7a",
        "collapsed": true
      },
      "cell_type": "code",
      "source": "featuresTest = torch.from_numpy(features_test)\ntargetsTest = torch.from_numpy(target_test).type(torch.LongTensor)",
      "execution_count": 5,
      "outputs": []
    },
    {
      "metadata": {
        "trusted": true,
        "_uuid": "fd9af73e5fd889d17cebbaabdee478f28d10487e",
        "collapsed": true
      },
      "cell_type": "code",
      "source": "len(featuresTest)",
      "execution_count": null,
      "outputs": []
    },
    {
      "metadata": {
        "trusted": true,
        "collapsed": true,
        "_uuid": "e596792e8b83a78a17651adce6e9e68ff1b7497b"
      },
      "cell_type": "code",
      "source": "batch_size = 100\nn_iter = 10000\nnum_epochs = int(n_iter / (len(features_train) / batch_size))\nnum_epochs = int(num_epochs)\n",
      "execution_count": 6,
      "outputs": []
    },
    {
      "metadata": {
        "trusted": true,
        "_uuid": "9ea066725326c8a1bfddaff7265cccd6e8590b67",
        "collapsed": true
      },
      "cell_type": "code",
      "source": "train = torch.utils.data.TensorDataset(featuresTrain,targetsTrain)\ntest = torch.utils.data.TensorDataset(featuresTest,targetsTest)",
      "execution_count": 7,
      "outputs": []
    },
    {
      "metadata": {
        "trusted": true,
        "_uuid": "97ef2ef23a0b758ccea51c76d57027a403f60597",
        "collapsed": true
      },
      "cell_type": "code",
      "source": "train_loader = torch.utils.data.DataLoader(train, batch_size = batch_size, shuffle = False)\ntest_loader = torch.utils.data.DataLoader(test, batch_size = batch_size, shuffle = False)",
      "execution_count": 8,
      "outputs": []
    },
    {
      "metadata": {
        "trusted": true,
        "_uuid": "e7b107091f8a9945a9ebf137e55469e1405fbe3b"
      },
      "cell_type": "code",
      "source": "plt.imshow(features_numpy[10].reshape(28,28))\nplt.axis(\"off\")\nplt.title(str(targets_numpy[10]))\nplt.savefig('graph.png')\nplt.show()",
      "execution_count": 9,
      "outputs": [
        {
          "output_type": "display_data",
          "data": {
            "text/plain": "<matplotlib.figure.Figure at 0x7fcd11e2cb00>",
            "image/png": "[encoded data removed]"
          },
          "metadata": {}
        }
      ]
    },
    {
      "metadata": {
        "trusted": true,
        "collapsed": true,
        "_uuid": "62e6b067deeaba5e62fbab1f13f374ea904e274c"
      },
      "cell_type": "code",
      "source": "class ANNModel(nn.Module):\n    def __init__(self, input_dim, hidden_dim, output_dim):\n        super(ANNModel, self).__init__()\n        self.fc1 = nn.Linear(input_dim, hidden_dim)\n        self.relu1 = nn.ReLU()\n        \n        self.fc2 = nn.Linear(hidden_dim, hidden_dim)\n        self.tanh2 = nn.Tanh()\n        \n        self.fc3 = nn.Linear(hidden_dim, hidden_dim)\n        self.elu3 = nn.ELU()\n        \n        self.fc4 = nn.Linear(hidden_dim, output_dim)\n    def forward(self, x):\n        out = self.fc1(x)\n        out = self.relu1(out)\n        out = self.fc2(out)\n        out = self.tanh2(out)\n        out = self.fc3(out)\n        out = self.elu3(out)\n        out = self.fc4(out)\n        return out",
      "execution_count": 10,
      "outputs": []
    },
    {
      "metadata": {
        "trusted": true,
        "_uuid": "e539287f976d2156ce0fd41119925019b7ffdb31",
        "collapsed": true
      },
      "cell_type": "code",
      "source": "input_dim = 28*28\nhidden_dim = 150\noutput_dim = 10\n\nmodel = ANNModel(input_dim, hidden_dim, output_dim)\n\nerror = nn.CrossEntropyLoss()\n\nlearning_rate = 0.02\noptimizer = torch.optim.SGD(model.parameters(), lr=learning_rate)",
      "execution_count": 11,
      "outputs": []
    },
    {
      "metadata": {
        "trusted": true,
        "_uuid": "07648a18c1a46f0c13743819d763c948fb9bbcc3"
      },
      "cell_type": "code",
      "source": "count = 0\nloss_list = []\niteration_list = []\naccuracy_list = []\n\nfor epoch in range(num_epochs):\n    for i, (images, labels) in enumerate(train_loader):\n        train = Variable(images.view(-1, 28*28))\n        labels = Variable(labels)\n        \n        optimizer.zero_grad()\n        outputs = model(train)\n        loss = error(outputs, labels)\n        \n        loss.backward()\n        \n        optimizer.step()\n        \n        count += 1\n        \n        if count % 50 == 0:\n            correct = 0 \n            total = 0\n            for images, labels in test_loader:\n                test = Variable(images.view(-1,28*28))\n                \n                outputs = model(test)\n                \n                predicted = torch.max(outputs.data, 1)[1]\n                \n                total += len(labels)\n                \n                correct += (predicted == labels).sum()\n                \n            accuracy = 100* correct / float(total)\n            \n            loss_list.append(loss.data)\n            iteration_list.append(count)\n            accuracy_list.append(accuracy)\n        if count % 500 == 0:\n            print('Iteration: {} Loss: {} Accuracy: {} % '.format(count, loss.data[0], accuracy))\n            ",
      "execution_count": 18,
      "outputs": [
        {
          "output_type": "stream",
          "text": "Iteration: 500 Loss: 0.01734573394060135 Accuracy: 97.05952380952381 % \nIteration: 1000 Loss: 0.009028974920511246 Accuracy: 97.07142857142857 % \nIteration: 1500 Loss: 0.008858810178935528 Accuracy: 96.96428571428571 % \nIteration: 2000 Loss: 0.01577838696539402 Accuracy: 96.97619047619048 % \nIteration: 2500 Loss: 0.014657832682132721 Accuracy: 97.1547619047619 % \nIteration: 3000 Loss: 0.00767048355191946 Accuracy: 97.08333333333333 % \nIteration: 3500 Loss: 0.013171362690627575 Accuracy: 97.1547619047619 % \nIteration: 4000 Loss: 0.008804124779999256 Accuracy: 97.07142857142857 % \nIteration: 4500 Loss: 0.009111731313169003 Accuracy: 97.10714285714286 % \nIteration: 5000 Loss: 0.005581614561378956 Accuracy: 97.04761904761905 % \nIteration: 5500 Loss: 0.01153732929378748 Accuracy: 97.07142857142857 % \nIteration: 6000 Loss: 0.00911086518317461 Accuracy: 96.97619047619048 % \nIteration: 6500 Loss: 0.008339195512235165 Accuracy: 97.02380952380952 % \nIteration: 7000 Loss: 0.008043280802667141 Accuracy: 97.0 % \nIteration: 7500 Loss: 0.006829583551734686 Accuracy: 97.08333333333333 % \nIteration: 8000 Loss: 0.04062933474779129 Accuracy: 96.98809523809524 % \nIteration: 8500 Loss: 0.003205521497875452 Accuracy: 97.10714285714286 % \nIteration: 9000 Loss: 0.0034648769069463015 Accuracy: 97.23809523809524 % \nIteration: 9500 Loss: 0.0020727282389998436 Accuracy: 97.11904761904762 % \n",
          "name": "stdout"
        }
      ]
    },
    {
      "metadata": {
        "trusted": true,
        "_uuid": "f9d0bdadf40108e86e44e79a90baa5700932c246"
      },
      "cell_type": "code",
      "source": "plt.plot(iteration_list,loss_list)\nplt.xlabel(\"Number of iteration\")\nplt.ylabel(\"Loss\")\nplt.title(\"ANN: Loss vs Number of iteration\")\nplt.show()\n\n# visualization accuracy \nplt.plot(iteration_list,accuracy_list,color = \"red\")\nplt.xlabel(\"Number of iteration\")\nplt.ylabel(\"Accuracy\")\nplt.title(\"ANN: Accuracy vs Number of iteration\")\nplt.show()",
      "execution_count": null,
      "outputs": []
    },
    {
      "metadata": {
        "trusted": true,
        "collapsed": true,
        "_uuid": "3bb5ffc152ff292be416d905bb556ec3933b13f3"
      },
      "cell_type": "code",
      "source": "",
      "execution_count": null,
      "outputs": []
    }
  ],
  "metadata": {
    "kernelspec": {
      "display_name": "Python 3",
      "language": "python",
      "name": "python3"
    },
    "language_info": {
      "name": "python",
      "version": "3.6.4",
      "mimetype": "text/x-python",
      "codemirror_mode": {
        "name": "ipython",
        "version": 3
      },
      "pygments_lexer": "ipython3",
      "nbconvert_exporter": "python",
      "file_extension": ".py"
    }
  },
  "nbformat": 4,
  "nbformat_minor": 1
}