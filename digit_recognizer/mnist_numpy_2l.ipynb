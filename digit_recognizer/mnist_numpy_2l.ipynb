{
  "cells": [
    {
      "metadata": {
        "_uuid": "8f2839f25d086af736a60e9eeb907d3b93b6e0e5",
        "_cell_guid": "b1076dfc-b9ad-4769-8c92-a6c4dae69d19",
        "trusted": true,
        "collapsed": true
      },
      "cell_type": "code",
      "source": "import numpy as np\nimport pandas as pd",
      "execution_count": 2,
      "outputs": []
    },
    {
      "metadata": {
        "_cell_guid": "79c7e3d0-c299-4dcb-8224-4455121ee9b0",
        "_uuid": "d629ff2d2480ee46fbb7e2d37f6b5fab8052498a",
        "trusted": true
      },
      "cell_type": "code",
      "source": "df = pd.read_csv(\"../input/train.csv\")",
      "execution_count": 4,
      "outputs": []
    },
    {
      "metadata": {
        "trusted": true,
        "_uuid": "9bfdd0bd6dec34cd0d45368b0f7749f8b88b161c"
      },
      "cell_type": "code",
      "source": "df.head()\ndata = df.values",
      "execution_count": 8,
      "outputs": []
    },
    {
      "metadata": {
        "trusted": true,
        "_uuid": "ea0383b54e721c83054a12dbc00b48e277f84cd2"
      },
      "cell_type": "code",
      "source": "y = data[:,0]\nx = data[:,1:].astype(np.float64)",
      "execution_count": 21,
      "outputs": []
    },
    {
      "metadata": {
        "_uuid": "587a370bdce9560765b8d0868b347d5f05f01dbd"
      },
      "cell_type": "markdown",
      "source": "train_num = 41000\nx_train, y_train  = x[:train_num], y[:train_num] \nx_val, y_val = x[train_num : ], y[train_num : ]"
    },
    {
      "metadata": {
        "trusted": true,
        "_uuid": "7a9c17c562788641ccf74f1c56bf727f623eb1a7"
      },
      "cell_type": "code",
      "source": "mean_pixel = x_train.mean(axis=0)\nx_train -= mean_pixel\nx_val -= mean_pixel",
      "execution_count": 26,
      "outputs": []
    },
    {
      "metadata": {
        "trusted": true,
        "_uuid": "9c417c0eb9c7bc334d46700f24401989cb24ba8a"
      },
      "cell_type": "code",
      "source": "def initialize_global_weights():\n    global W1, b1, W2, b2\n    train_no, size = train_num, 784\n    hidden, op = 500,10\n    W1 = 0.001 * np.random.rand(size, hidden)\n    b1 = np.zeros(hidden)\n    W2 = 0.001 * np.random.rand(hidden, op)\n    b2 = np.zeros(op)\ninitialize_global_weights()",
      "execution_count": 31,
      "outputs": []
    },
    {
      "metadata": {
        "trusted": true,
        "collapsed": true,
        "_uuid": "7befcf1651b5d4e242ae401a9b6ebd3d4c420f29"
      },
      "cell_type": "code",
      "source": "def softmax(scores, y):\n    N = scores.shape[0]\n    scores = scores.copy()\n    scores -= np.max(scores, axis=1)[:, None]\n    probs = np.exp(scores)\n    probs /= np.sum(probs, axis=1)[:, None]\n    loss = np.sum(-np.log(probs[np.arange(N), y])) / N\n    \n    dscores = probs.copy()\n    dscores[np.arange(N), y] -= 1\n    \n    return loss, dscores",
      "execution_count": 38,
      "outputs": []
    },
    {
      "metadata": {
        "trusted": true,
        "collapsed": true,
        "_uuid": "96317941ae6322c00f3f75339e997ccb96f0ef8a"
      },
      "cell_type": "code",
      "source": "",
      "execution_count": null,
      "outputs": []
    },
    {
      "metadata": {
        "trusted": true,
        "_uuid": "6bc900403cd1ad97a94296147eb9404698a279b8"
      },
      "cell_type": "code",
      "source": "def train(x, y= None, loss_fn = None, lr = 1e-3, reg = 0.0):\n    global W1, W2,b1,b2\n    a = x.dot(W1)+b1\n    scores = a.dot(W2) + b2\n    if y is None:\n        return scores\n    loss, dscores = loss_fn(scores, y)\n    print('loss: %f' %loss)\n    dW2 = np.dot(a.T, dscores) + reg * W2\n    db2 = np.sum(dscores, axis=0)\n    da = np.dot(dscores, W2.T)\n    db1 = np.sum(da, axis=0)\n    dW1 = np.dot(x.T, da) + reg * W1\n    # update params\n    W1 += - lr * dW1\n    W2 += - lr * dW2\n    b1 += - lr * db1\n    b2 += - lr * db2\n    return loss",
      "execution_count": 46,
      "outputs": []
    },
    {
      "metadata": {
        "trusted": true,
        "_uuid": "11c6a110c0c5908229371eebe6205814522598cd"
      },
      "cell_type": "code",
      "source": "num_iter = 10\ninitialize_global_weights()\nfor i in range(num_iter):\n    loss = train(x_train, y_train, softmax, lr=1e-7, reg=1e-5)\n    if np.isinf(loss):\n        break",
      "execution_count": 47,
      "outputs": [
        {
          "output_type": "stream",
          "text": "loss: 2.301413\nloss: 2.895472\nloss: 3.616603\nloss: 2.953533\nloss: 2.029714\nloss: 1.731179\nloss: 1.477431\nloss: 1.246538\nloss: 1.071168\nloss: 0.942516\n",
          "name": "stdout"
        }
      ]
    },
    {
      "metadata": {
        "trusted": true,
        "_uuid": "d946b03d087b7e0375a0d538527e69916aed5737"
      },
      "cell_type": "code",
      "source": "train_score = train(x_train)\ntrain_acc = (np.argmax(train_score, axis=1) == y_train).mean()\nval_scores = train(x_val)\nval_acc = (np.argmax(val_scores, axis=1) == y_val).mean() \nprint(train_acc, val_acc)",
      "execution_count": null,
      "outputs": []
    }
  ],
  "metadata": {
    "kernelspec": {
      "display_name": "Python 3",
      "language": "python",
      "name": "python3"
    },
    "language_info": {
      "name": "python",
      "version": "3.6.6",
      "mimetype": "text/x-python",
      "codemirror_mode": {
        "name": "ipython",
        "version": 3
      },
      "pygments_lexer": "ipython3",
      "nbconvert_exporter": "python",
      "file_extension": ".py"
    }
  },
  "nbformat": 4,
  "nbformat_minor": 1
}