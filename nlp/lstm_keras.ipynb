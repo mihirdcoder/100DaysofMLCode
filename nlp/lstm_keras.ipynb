{
  "cells": [
    {
      "metadata": {
        "_uuid": "8f2839f25d086af736a60e9eeb907d3b93b6e0e5",
        "_cell_guid": "b1076dfc-b9ad-4769-8c92-a6c4dae69d19",
        "trusted": true
      },
      "cell_type": "code",
      "source": "import numpy as np\nimport pandas as pd\n\nfrom sklearn.feature_extraction.text import CountVectorizer\nfrom keras.preprocessing.text import Tokenizer\nfrom keras.preprocessing.sequence import pad_sequences\nfrom keras.models import Sequential\nfrom keras.layers import Dense, Embedding, LSTM, SpatialDropout1D\nfrom sklearn.model_selection import train_test_split\nfrom keras.utils.np_utils import to_categorical\nimport re\n\n",
      "execution_count": 1,
      "outputs": [
        {
          "output_type": "stream",
          "text": "/opt/conda/lib/python3.6/site-packages/h5py/__init__.py:36: FutureWarning: Conversion of the second argument of issubdtype from `float` to `np.floating` is deprecated. In future, it will be treated as `np.float64 == np.dtype(float).type`.\n  from ._conv import register_converters as _register_converters\nUsing TensorFlow backend.\n",
          "name": "stderr"
        }
      ]
    },
    {
      "metadata": {
        "_cell_guid": "79c7e3d0-c299-4dcb-8224-4455121ee9b0",
        "collapsed": true,
        "_uuid": "d629ff2d2480ee46fbb7e2d37f6b5fab8052498a",
        "trusted": true
      },
      "cell_type": "code",
      "source": "data = pd.read_csv('../input/Sentiment.csv')\ndata = data[['text','sentiment']]",
      "execution_count": 2,
      "outputs": []
    },
    {
      "metadata": {
        "trusted": true,
        "_uuid": "75c86b5024d29609098dc741e9dac7ad11833dae",
        "collapsed": true
      },
      "cell_type": "code",
      "source": "data = data[data.sentiment != \"Neutral\"]\ndata['text'] = data['text'].apply(lambda x:x.lower())\ndata['text'] = data['text'].apply((lambda x: re.sub('[^a-zA-Z0-9\\s]','',x)))",
      "execution_count": 3,
      "outputs": []
    },
    {
      "metadata": {
        "trusted": true,
        "_uuid": "730ea484bd31d358961deaa4582a0c14b6660df7"
      },
      "cell_type": "code",
      "source": "print(data[data['sentiment'] == 'Positive'].size)\nprint(data[data['sentiment'] == 'Negative'].size)",
      "execution_count": 4,
      "outputs": [
        {
          "output_type": "stream",
          "text": "4472\n16986\n",
          "name": "stdout"
        }
      ]
    },
    {
      "metadata": {
        "trusted": true,
        "collapsed": true,
        "_uuid": "03103fca7a49e0c337fcf7c92258e8ea1f3d38dc"
      },
      "cell_type": "code",
      "source": "for idx, row in data.iterrows():\n    row[0] = row[0].replace('rt',' ')",
      "execution_count": 5,
      "outputs": []
    },
    {
      "metadata": {
        "trusted": true,
        "_uuid": "df52dda13561d252fe940c4c020d07449980fa6f",
        "collapsed": true
      },
      "cell_type": "code",
      "source": "max_features = 2000\ntokenizer = Tokenizer(num_words = max_features, split=' ')\ntokenizer.fit_on_texts(data['text'].values)\nX = tokenizer.texts_to_sequences(data['text'].values)\nX = pad_sequences(X)\n",
      "execution_count": 6,
      "outputs": []
    },
    {
      "metadata": {
        "trusted": true,
        "_uuid": "483e29c6bc7eee3b6dd3ea5715117682ed9c39f1"
      },
      "cell_type": "code",
      "source": "embed_dim = 128\nlstm_out = 196\n\nmodel = Sequential()\nmodel.add(Embedding(max_features, embed_dim, input_length = X.shape[1]))\nmodel.add(SpatialDropout1D(0.4))\nmodel.add(LSTM(lstm_out, dropout = 0.2, recurrent_dropout=0.2))\nmodel.add(Dense(2, activation='softmax'))\nmodel.compile(loss='categorical_crossentropy', optimizer='adam', metrics = ['accuracy'])\nprint(model.summary())",
      "execution_count": 7,
      "outputs": [
        {
          "output_type": "stream",
          "text": "_________________________________________________________________\nLayer (type)                 Output Shape              Param #   \n=================================================================\nembedding_1 (Embedding)      (None, 28, 128)           256000    \n_________________________________________________________________\nspatial_dropout1d_1 (Spatial (None, 28, 128)           0         \n_________________________________________________________________\nlstm_1 (LSTM)                (None, 196)               254800    \n_________________________________________________________________\ndense_1 (Dense)              (None, 2)                 394       \n=================================================================\nTotal params: 511,194\nTrainable params: 511,194\nNon-trainable params: 0\n_________________________________________________________________\nNone\n",
          "name": "stdout"
        }
      ]
    },
    {
      "metadata": {
        "trusted": true,
        "_uuid": "a941b81ed4abe857566b769ed95d8ab1fcb20960"
      },
      "cell_type": "code",
      "source": "Y = pd.get_dummies(data['sentiment']).values\nX_train, X_test, Y_train, Y_test = train_test_split(X,Y, test_size = 0.33, random_state = 42)\nprint(X_train.shape,Y_train.shape)\nprint(X_test.shape,Y_test.shape)",
      "execution_count": 8,
      "outputs": [
        {
          "output_type": "stream",
          "text": "(7188, 28) (7188, 2)\n(3541, 28) (3541, 2)\n",
          "name": "stdout"
        }
      ]
    },
    {
      "metadata": {
        "trusted": true,
        "_uuid": "03bcb15e781b821a7813a3a2062161e7e17fcb16"
      },
      "cell_type": "code",
      "source": "batch_size = 32\nmodel.fit(X_train, Y_train, epochs = 7, batch_size=batch_size, verbose = 2)",
      "execution_count": 9,
      "outputs": [
        {
          "output_type": "stream",
          "text": "Epoch 1/7\n - 17s - loss: 0.4410 - acc: 0.8123\nEpoch 2/7\n - 13s - loss: 0.3232 - acc: 0.8642\nEpoch 3/7\n - 13s - loss: 0.2839 - acc: 0.8817\nEpoch 4/7\n - 13s - loss: 0.2573 - acc: 0.8937\nEpoch 5/7\n - 13s - loss: 0.2308 - acc: 0.9054\nEpoch 6/7\n - 13s - loss: 0.2120 - acc: 0.9126\nEpoch 7/7\n - 13s - loss: 0.1929 - acc: 0.9208\n",
          "name": "stdout"
        },
        {
          "output_type": "execute_result",
          "execution_count": 9,
          "data": {
            "text/plain": "<keras.callbacks.History at 0x7f2fd24b84a8>"
          },
          "metadata": {}
        }
      ]
    },
    {
      "metadata": {
        "trusted": true,
        "_uuid": "65d81f32af471e6362cb54ab7e9506a36748eae4"
      },
      "cell_type": "code",
      "source": "validation_size = 1500\n\nX_validate = X_test[-validation_size:]\nY_validate = Y_test[-validation_size:]\nX_test = X_test[:-validation_size]\nY_test = Y_test[:-validation_size]\nscore,acc = model.evaluate(X_test, Y_test, verbose = 2, batch_size = batch_size)\nprint(\"score: %.2f\" % (score))\nprint(\"acc: %.2f\" % (acc))",
      "execution_count": 10,
      "outputs": [
        {
          "output_type": "stream",
          "text": "score: 0.40\nacc: 0.84\n",
          "name": "stdout"
        }
      ]
    }
  ],
  "metadata": {
    "kernelspec": {
      "display_name": "Python 3",
      "language": "python",
      "name": "python3"
    },
    "language_info": {
      "name": "python",
      "version": "3.6.4",
      "mimetype": "text/x-python",
      "codemirror_mode": {
        "name": "ipython",
        "version": 3
      },
      "pygments_lexer": "ipython3",
      "nbconvert_exporter": "python",
      "file_extension": ".py"
    }
  },
  "nbformat": 4,
  "nbformat_minor": 1
}