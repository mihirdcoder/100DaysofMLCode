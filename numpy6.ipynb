{
 "cells": [
  {
   "cell_type": "code",
   "execution_count": 1,
   "metadata": {},
   "outputs": [],
   "source": [
    "import numpy as np"
   ]
  },
  {
   "cell_type": "markdown",
   "metadata": {},
   "source": [
    "How to extract a particular column from 1D array of tuples?\n",
    "Difficulty Level: L2\n",
    "\n",
    "Q. Extract the text column species from the 1D iris imported in previous question.\n",
    "\n"
   ]
  },
  {
   "cell_type": "code",
   "execution_count": 2,
   "metadata": {},
   "outputs": [
    {
     "name": "stdout",
     "output_type": "stream",
     "text": [
      "(150,)\n"
     ]
    },
    {
     "name": "stderr",
     "output_type": "stream",
     "text": [
      "/usr/local/lib/python3.5/dist-packages/ipykernel_launcher.py:2: VisibleDeprecationWarning: Reading unicode strings without specifying the encoding argument is deprecated. Set the encoding, use None for the system default.\n",
      "  \n"
     ]
    }
   ],
   "source": [
    "url = '/home/mihir/ML_practice/numpy101/archive.ics.uci.edu/ml/machine-learning-databases/iris/iris.data'\n",
    "iris_ld = np.genfromtxt(url,delimiter=',',dtype=None)\n",
    "print(iris_ld.shape)"
   ]
  },
  {
   "cell_type": "code",
   "execution_count": 5,
   "metadata": {},
   "outputs": [
    {
     "name": "stdout",
     "output_type": "stream",
     "text": [
      "[b'Iris-setosa' b'Iris-setosa' b'Iris-setosa' b'Iris-setosa'\n",
      " b'Iris-setosa']\n"
     ]
    }
   ],
   "source": [
    "species = np.array([row[4] for row in iris_ld])\n",
    "\n",
    "print(species[:5])"
   ]
  },
  {
   "cell_type": "markdown",
   "metadata": {},
   "source": [
    "How to convert a 1d array of tuples to a 2d numpy array?\n",
    "Difficulty Level: L2\n",
    "\n",
    "Q. Convert the 1D iris to 2D array iris_2d by omitting the species text field.\n",
    "\n"
   ]
  },
  {
   "cell_type": "code",
   "execution_count": 7,
   "metadata": {},
   "outputs": [
    {
     "name": "stdout",
     "output_type": "stream",
     "text": [
      "[[5.1 3.5 1.4 0.2]\n",
      " [4.9 3.  1.4 0.2]\n",
      " [4.7 3.2 1.3 0.2]\n",
      " [4.6 3.1 1.5 0.2]]\n"
     ]
    }
   ],
   "source": [
    "iris_2d = np.array([row.tolist()[:4] for row in iris_ld])\n",
    "print(iris_2d[:4])"
   ]
  },
  {
   "cell_type": "markdown",
   "metadata": {},
   "source": [
    " How to compute the mean, median, standard deviation of a numpy array?\n",
    "Difficulty: L1\n",
    "\n",
    "Q. Find the mean, median, standard deviation of iris's sepallength (1st column)"
   ]
  },
  {
   "cell_type": "code",
   "execution_count": 27,
   "metadata": {},
   "outputs": [
    {
     "name": "stdout",
     "output_type": "stream",
     "text": [
      "5.843333333333334 5.8 0.8253012917851409\n"
     ]
    }
   ],
   "source": [
    "sepallength = np.genfromtxt(url, delimiter=',', dtype='float', usecols=[0])\n",
    "mu, med, sd = np.mean(sepallength),np.median(sepallength), np.std(sepallength)\n",
    "print(mu, med, sd)"
   ]
  },
  {
   "cell_type": "code",
   "execution_count": null,
   "metadata": {},
   "outputs": [],
   "source": [
    "How to normalize an array so the values range exactly between 0 and 1?\n",
    "Difficulty: L2\n",
    "\n",
    "Q. Create a normalized form of iris's sepallength whose values range exactly between 0 and 1 so that the minimum has value 0 and maximum has value 1.\n",
    "\n"
   ]
  },
  {
   "cell_type": "code",
   "execution_count": 28,
   "metadata": {},
   "outputs": [
    {
     "name": "stdout",
     "output_type": "stream",
     "text": [
      "[0.22222222 0.16666667 0.11111111 0.08333333 0.19444444 0.30555556\n",
      " 0.08333333 0.19444444 0.02777778 0.16666667 0.30555556 0.13888889\n",
      " 0.13888889 0.         0.41666667 0.38888889 0.30555556 0.22222222\n",
      " 0.38888889 0.22222222 0.30555556 0.22222222 0.08333333 0.22222222\n",
      " 0.13888889 0.19444444 0.19444444 0.25       0.25       0.11111111\n",
      " 0.13888889 0.30555556 0.25       0.33333333 0.16666667 0.19444444\n",
      " 0.33333333 0.16666667 0.02777778 0.22222222 0.19444444 0.05555556\n",
      " 0.02777778 0.19444444 0.22222222 0.13888889 0.22222222 0.08333333\n",
      " 0.27777778 0.19444444 0.75       0.58333333 0.72222222 0.33333333\n",
      " 0.61111111 0.38888889 0.55555556 0.16666667 0.63888889 0.25\n",
      " 0.19444444 0.44444444 0.47222222 0.5        0.36111111 0.66666667\n",
      " 0.36111111 0.41666667 0.52777778 0.36111111 0.44444444 0.5\n",
      " 0.55555556 0.5        0.58333333 0.63888889 0.69444444 0.66666667\n",
      " 0.47222222 0.38888889 0.33333333 0.33333333 0.41666667 0.47222222\n",
      " 0.30555556 0.47222222 0.66666667 0.55555556 0.36111111 0.33333333\n",
      " 0.33333333 0.5        0.41666667 0.19444444 0.36111111 0.38888889\n",
      " 0.38888889 0.52777778 0.22222222 0.38888889 0.55555556 0.41666667\n",
      " 0.77777778 0.55555556 0.61111111 0.91666667 0.16666667 0.83333333\n",
      " 0.66666667 0.80555556 0.61111111 0.58333333 0.69444444 0.38888889\n",
      " 0.41666667 0.58333333 0.61111111 0.94444444 0.94444444 0.47222222\n",
      " 0.72222222 0.36111111 0.94444444 0.55555556 0.66666667 0.80555556\n",
      " 0.52777778 0.5        0.58333333 0.80555556 0.86111111 1.\n",
      " 0.58333333 0.55555556 0.5        0.94444444 0.55555556 0.58333333\n",
      " 0.47222222 0.72222222 0.66666667 0.72222222 0.41666667 0.69444444\n",
      " 0.66666667 0.66666667 0.55555556 0.61111111 0.52777778 0.44444444]\n"
     ]
    }
   ],
   "source": [
    "Smax, Smin = sepallength.max(), sepallength.min()\n",
    "S = (sepallength - Smin)/(Smax - Smin)\n",
    "print(S)"
   ]
  },
  {
   "cell_type": "markdown",
   "metadata": {},
   "source": [
    "How to compute the softmax score?\n",
    "Difficulty Level: L3\n",
    "\n",
    "Q. Compute the softmax score of sepallength."
   ]
  },
  {
   "cell_type": "code",
   "execution_count": 29,
   "metadata": {},
   "outputs": [
    {
     "name": "stdout",
     "output_type": "stream",
     "text": [
      "[0.00221959 0.00181724 0.00148783 0.00134625 0.00200836 0.00299613\n",
      " 0.00134625 0.00200836 0.00110221 0.00181724 0.00299613 0.00164431\n",
      " 0.00164431 0.00099732 0.0044697  0.00404435 0.00299613 0.00221959\n",
      " 0.00404435 0.00221959 0.00299613 0.00221959 0.00134625 0.00221959\n",
      " 0.00164431 0.00200836 0.00200836 0.00245302 0.00245302 0.00148783\n",
      " 0.00164431 0.00299613 0.00245302 0.00331123 0.00181724 0.00200836\n",
      " 0.00331123 0.00181724 0.00110221 0.00221959 0.00200836 0.00121813\n",
      " 0.00110221 0.00200836 0.00221959 0.00164431 0.00221959 0.00134625\n",
      " 0.00271101 0.00200836 0.01483991 0.00814432 0.01342771 0.00331123\n",
      " 0.00900086 0.00404435 0.00736928 0.00181724 0.00994749 0.00245302\n",
      " 0.00200836 0.00493978 0.0054593  0.00603346 0.00365948 0.01099368\n",
      " 0.00365948 0.0044697  0.006668   0.00365948 0.00493978 0.00603346\n",
      " 0.00736928 0.00603346 0.00814432 0.00994749 0.01214989 0.01099368\n",
      " 0.0054593  0.00404435 0.00331123 0.00331123 0.0044697  0.0054593\n",
      " 0.00299613 0.0054593  0.01099368 0.00736928 0.00365948 0.00331123\n",
      " 0.00331123 0.00603346 0.0044697  0.00200836 0.00365948 0.00404435\n",
      " 0.00404435 0.006668   0.00221959 0.00404435 0.00736928 0.0044697\n",
      " 0.01640064 0.00736928 0.00900086 0.02704008 0.00181724 0.02003179\n",
      " 0.01099368 0.01812551 0.00900086 0.00814432 0.01214989 0.00404435\n",
      " 0.0044697  0.00814432 0.00900086 0.02988391 0.02988391 0.0054593\n",
      " 0.01342771 0.00365948 0.02988391 0.00736928 0.01099368 0.01812551\n",
      " 0.006668   0.00603346 0.00814432 0.01812551 0.02213855 0.0365003\n",
      " 0.00814432 0.00736928 0.00603346 0.02988391 0.00736928 0.00814432\n",
      " 0.0054593  0.01342771 0.01099368 0.01342771 0.0044697  0.01214989\n",
      " 0.01099368 0.01099368 0.00736928 0.00900086 0.006668   0.00493978]\n"
     ]
    }
   ],
   "source": [
    "def softmax(x):\n",
    "    e_x = np.exp(x - np.max(x))\n",
    "    return e_x/ e_x.sum(axis=0)\n",
    "print(softmax(sepallength))"
   ]
  }
 ],
 "metadata": {
  "kernelspec": {
   "display_name": "Python 3",
   "language": "python",
   "name": "python3"
  },
  "language_info": {
   "codemirror_mode": {
    "name": "ipython",
    "version": 3
   },
   "file_extension": ".py",
   "mimetype": "text/x-python",
   "name": "python",
   "nbconvert_exporter": "python",
   "pygments_lexer": "ipython3",
   "version": "3.5.2"
  }
 },
 "nbformat": 4,
 "nbformat_minor": 2
}
